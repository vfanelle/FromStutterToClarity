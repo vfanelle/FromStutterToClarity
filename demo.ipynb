{
 "cells": [
  {
   "cell_type": "code",
   "execution_count": 2,
   "metadata": {},
   "outputs": [
    {
     "name": "stdout",
     "output_type": "stream",
     "text": [
      "Error: Failed to call git rev-parse --git-dir: exit status 128 \n",
      "Git LFS initialized.\n",
      "Cloning into 'Whispering-LLaMA'...\n",
      "remote: Enumerating objects: 26, done.\u001b[K\n",
      "remote: Counting objects: 100% (23/23), done.\u001b[K\n",
      "remote: Compressing objects: 100% (22/22), done.\u001b[K\n",
      "remote: Total 26 (delta 6), reused 0 (delta 0), pack-reused 3\u001b[K\n",
      "Unpacking objects: 100% (26/26), 3.40 KiB | 1024 bytes/s, done.\n",
      "Filtering content: 100% (4/4), 1.10 GiB | 1.20 MiB/s, done.\n",
      "Encountered 3 file(s) that may not have been copied correctly on Windows:\n",
      "\talpaca_c.pth\n",
      "\talpaca_b.pth\n",
      "\talpaca_a.pth\n",
      "\n",
      "See: `git lfs help smudge` for more details.\n"
     ]
    }
   ],
   "source": [
    "# clone the repo\n",
    "# !git clone https://github.com/Srijith-rkr/Whispering-LLaMA.git\n",
    "\n",
    "# Clone the weights and rename the folder as weights \n",
    "!git lfs install\n",
    "!git clone https://huggingface.co/Srijith-rkr/Whispering-LLaMA \n",
    "\n",
    "# You can also download the weights using the UI in HuggingFace from the repo 'https://huggingface.co/Srijith-rkr/Whispering-LLaMA' if you have issues with git lfs\n",
    "\n",
    "# Refer to the READ ME file to build your environment"
   ]
  },
  {
   "cell_type": "code",
   "execution_count": 2,
   "metadata": {},
   "outputs": [],
   "source": [
    "import torch \n",
    "\n",
    "# To merge the Alpaca weigts from the HuggingFace repo we just cloned\n",
    "\n",
    "a = torch.load('weights/alpaca_a.pth')\n",
    "b = torch.load('weights/alpaca_b.pth')\n",
    "c = torch.load('weights/alpaca_c.pth')"
   ]
  },
  {
   "cell_type": "code",
   "execution_count": 4,
   "metadata": {},
   "outputs": [],
   "source": [
    "from collections import OrderedDict\n",
    "\n",
    "# merging\n",
    "# alpaca_checkpoint = a|b|c\n",
    "alpaca_checkpoint = OrderedDict(a)  # Create a copy of a to start with\n",
    "alpaca_checkpoint.update(b)  # Update with b\n",
    "alpaca_checkpoint.update(c)  # Update with c\n",
    "\n",
    "# saving\n",
    "torch.save(alpaca_checkpoint,'weights/alpaca.pth')"
   ]
  },
  {
   "cell_type": "code",
   "execution_count": 7,
   "metadata": {},
   "outputs": [],
   "source": [
    "# import wandb\n",
    "\n",
    "# wandb.login()"
   ]
  },
  {
   "cell_type": "code",
   "execution_count": null,
   "metadata": {},
   "outputs": [],
   "source": [
    "# To train the model\n",
    "!python training/WL-S.py --lr 1e-3 --d 1 --pretrained_path 'weights/alpaca.pth' --tokenizer_path 'weights/tokenizer.model' --data 'path to your dataset'\n",
    "\n",
    "# Refer to https://github.com/Srijith-rkr/Whispering-LLaMA/tree/main/data_preparation to make your own dataset"
   ]
  }
 ],
 "metadata": {
  "kernelspec": {
   "display_name": "Python 3.8 - AzureML",
   "language": "python",
   "name": "python38-azureml"
  },
  "language_info": {
   "codemirror_mode": {
    "name": "ipython",
    "version": 3
   },
   "file_extension": ".py",
   "mimetype": "text/x-python",
   "name": "python",
   "nbconvert_exporter": "python",
   "pygments_lexer": "ipython3",
   "version": "3.8.5"
  }
 },
 "nbformat": 4,
 "nbformat_minor": 2
}
